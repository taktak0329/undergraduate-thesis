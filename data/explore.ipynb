{
 "cells": [
  {
   "cell_type": "code",
   "execution_count": 1,
   "metadata": {},
   "outputs": [],
   "source": [
    "import pandas as pd\n",
    "import numpy as np\n",
    "import os\n",
    "import glob\n",
    "import matplotlib.pyplot as plt"
   ]
  },
  {
   "cell_type": "code",
   "execution_count": 2,
   "metadata": {},
   "outputs": [
    {
     "data": {
      "text/plain": [
       "['columns.csv',\n",
       " 'data_whole.csv',\n",
       " 'EdStatsData.csv',\n",
       " 'HNP_StatsData.csv',\n",
       " 'WDICSV.csv',\n",
       " 'wdi_whole.csv']"
      ]
     },
     "execution_count": 2,
     "metadata": {},
     "output_type": "execute_result"
    }
   ],
   "source": [
    "csv_list = glob.glob('*.csv')\n",
    "csv_list"
   ]
  },
  {
   "cell_type": "code",
   "execution_count": 3,
   "metadata": {},
   "outputs": [
    {
     "name": "stdout",
     "output_type": "stream",
     "text": [
      "(886930, 70)\n",
      "(392882, 67)\n",
      "(124222, 68)\n"
     ]
    }
   ],
   "source": [
    "edu = pd.read_csv('EdStatsData.csv')\n",
    "wdi = pd.read_csv('WDICSV.csv')\n",
    "hnp = pd.read_csv('HNP_StatsData.csv')\n",
    "\n",
    "print(edu.shape)\n",
    "print(wdi.shape)\n",
    "print(hnp.shape)"
   ]
  },
  {
   "cell_type": "code",
   "execution_count": null,
   "metadata": {},
   "outputs": [],
   "source": [
    "#要らないデータdrop\n",
    "drop_list = ['Country Code', 'Indicator Code', 'Unnamed: 67', \n",
    "             '1960', '1961', '1962', '1963', '1964', '1965', '1966', '1967', '1968',\n",
    "             '1969', '1970', '1971', '1972', '1973', '1974', '1975', '1976', '1977',\n",
    "             '1978', '1979', '1980', '1981', '1982', '1983', '1984', '1985', '1986',\n",
    "             '1987', '1988', '1989', '1990']\n",
    "hnp.drop(drop_list, axis=1, inplace=True)\n",
    "\n",
    "\n",
    "#国別データに整理、時系列が揃っている変数のみ抽出\n",
    "hnp_swe = hnp[hnp['Country Name'] == 'Sweden']\n",
    "hnp_swe.dropna(thresh=hnp_swe.shape[1] - 2, inplace=True)\n",
    "\n",
    "hnp_fin = hnp[hnp['Country Name'] == 'Finland']\n",
    "hnp_fin.dropna(thresh=hnp_fin.shape[1] - 2, inplace=True)\n",
    "\n",
    "hnp_jap = hnp[hnp['Country Name'] == 'Japan']\n",
    "hnp_jap.dropna(thresh=hnp_jap.shape[1] - 2, inplace=True)\n",
    "\n",
    "#データ統合\n",
    "hnp_whole = pd.concat([hnp_swe, hnp_fin, hnp_jap], axis=0)\n",
    "\n",
    "hnp_whole.head()"
   ]
  },
  {
   "cell_type": "code",
   "execution_count": 4,
   "metadata": {},
   "outputs": [
    {
     "name": "stderr",
     "output_type": "stream",
     "text": [
      "C:\\Users\\takak\\AppData\\Local\\Temp\\ipykernel_24764\\1463679950.py:12: SettingWithCopyWarning: \n",
      "A value is trying to be set on a copy of a slice from a DataFrame\n",
      "\n",
      "See the caveats in the documentation: https://pandas.pydata.org/pandas-docs/stable/user_guide/indexing.html#returning-a-view-versus-a-copy\n",
      "  wdi_swe.dropna(thresh=wdi_swe.shape[1] - 2, inplace=True)\n",
      "C:\\Users\\takak\\AppData\\Local\\Temp\\ipykernel_24764\\1463679950.py:15: SettingWithCopyWarning: \n",
      "A value is trying to be set on a copy of a slice from a DataFrame\n",
      "\n",
      "See the caveats in the documentation: https://pandas.pydata.org/pandas-docs/stable/user_guide/indexing.html#returning-a-view-versus-a-copy\n",
      "  wdi_fin.dropna(thresh=wdi_fin.shape[1] - 2, inplace=True)\n",
      "C:\\Users\\takak\\AppData\\Local\\Temp\\ipykernel_24764\\1463679950.py:18: SettingWithCopyWarning: \n",
      "A value is trying to be set on a copy of a slice from a DataFrame\n",
      "\n",
      "See the caveats in the documentation: https://pandas.pydata.org/pandas-docs/stable/user_guide/indexing.html#returning-a-view-versus-a-copy\n",
      "  wdi_jap.dropna(thresh=wdi_jap.shape[1] - 2, inplace=True)\n"
     ]
    }
   ],
   "source": [
    "#要らないデータdrop\n",
    "drop_list = ['Country Code', 'Indicator Code','1960', '1961', '1962', '1963', \n",
    "             '1964', '1965', '1966', '1967', '1968','1969', '1970', '1971', \n",
    "             '1972', '1973', '1974', '1975', '1976', '1977','1978', '1979', \n",
    "             '1980', '1981', '1982', '1983', '1984', '1985', '1986','1987', \n",
    "             '1988', '1989', '1990']\n",
    "wdi.drop(drop_list, axis=1, inplace=True)\n",
    "\n",
    "\n",
    "#国別データに整理、時系列が揃っている変数のみ抽出\n",
    "wdi_swe = wdi[wdi['Country Name'] == 'Sweden']\n",
    "wdi_swe.dropna(thresh=wdi_swe.shape[1] - 2, inplace=True)\n",
    "\n",
    "wdi_fin = wdi[wdi['Country Name'] == 'Finland']\n",
    "wdi_fin.dropna(thresh=wdi_fin.shape[1] - 2, inplace=True)\n",
    "\n",
    "wdi_jap = wdi[wdi['Country Name'] == 'Japan']\n",
    "wdi_jap.dropna(thresh=wdi_jap.shape[1] - 2, inplace=True)\n",
    "\n",
    "\n",
    "#データ統合\n",
    "wdi_whole = pd.concat([wdi_swe, wdi_fin, wdi_jap], axis=0)\n",
    "\n",
    "# wdi_whole.to_csv('wdi_whole.csv')"
   ]
  },
  {
   "cell_type": "code",
   "execution_count": null,
   "metadata": {},
   "outputs": [],
   "source": [
    "#要らないデータdrop\n",
    "edu.drop(['Country Code', 'Indicator Code', '1970', '1971', '1972', '1973',\n",
    "          '1974', '1975', '1976', '1977', '1978', '1979', '1980', '1981', '1982',\n",
    "          '1983', '1984', '1985', '1986', '1987', '1988', '1989', '1990', '2025', \n",
    "          '2030', '2035', '2040', '2045','2050', '2055', '2060', '2065', '2070',\n",
    "          '2075', '2080', '2085', '2090','2095', '2100', 'Unnamed: 69'], \n",
    "          axis=1, inplace=True)\n",
    "\n",
    "\n",
    "#国別データに整理、時系列が揃っている変数のみ抽出\n",
    "swe_edu = edu[edu['Country Name'] == 'Sweden']\n",
    "swe_edu.dropna(thresh=swe_edu.shape[1] - 2, inplace=True)\n",
    "\n",
    "fin_edu = edu[edu['Country Name'] == 'Finland']\n",
    "fin_edu.dropna(thresh=fin_edu.shape[1] - 2, inplace=True)\n",
    "\n",
    "jap_edu = edu[edu['Country Name'] == 'Japan']\n",
    "jap_edu.dropna(thresh=jap_edu.shape[1] - 2, inplace=True)\n",
    "\n",
    "\n",
    "#データ統合\n",
    "edu_whole = pd.concat([swe_edu, fin_edu, jap_edu], axis=0)\n",
    "\n",
    "edu_whole.head()"
   ]
  },
  {
   "cell_type": "code",
   "execution_count": null,
   "metadata": {},
   "outputs": [],
   "source": [
    "data_whole = pd.concat([wdi_whole, hnp_whole, edu_whole], axis=0)\n",
    "data_whole = data_whole.transpose().drop_duplicates()\n",
    "# data_whole.to_csv('data_whole.csv')\n",
    "data_whole.shape"
   ]
  },
  {
   "cell_type": "code",
   "execution_count": null,
   "metadata": {},
   "outputs": [],
   "source": [
    "columns = pd.DataFrame(data_whole['Indicator Name'].unique())\n",
    "# columns.to_csv('columns.csv')"
   ]
  }
 ],
 "metadata": {
  "kernelspec": {
   "display_name": "Python 3",
   "language": "python",
   "name": "python3"
  },
  "language_info": {
   "codemirror_mode": {
    "name": "ipython",
    "version": 3
   },
   "file_extension": ".py",
   "mimetype": "text/x-python",
   "name": "python",
   "nbconvert_exporter": "python",
   "pygments_lexer": "ipython3",
   "version": "3.9.2"
  }
 },
 "nbformat": 4,
 "nbformat_minor": 2
}
